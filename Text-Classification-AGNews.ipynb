{
  "cells": [
    {
      "cell_type": "code",
      "execution_count": null,
      "metadata": {
        "colab": {
          "base_uri": "https://localhost:8080/"
        },
        "id": "A6r2i-aHgEZX",
        "outputId": "84c34ba3-f227-4c91-de42-7691a9556bef"
      },
      "outputs": [
        {
          "output_type": "stream",
          "name": "stdout",
          "text": [
            "--2023-12-04 01:52:05--  http://setup.johnsnowlabs.com/colab.sh\n",
            "Resolving setup.johnsnowlabs.com (setup.johnsnowlabs.com)... 51.158.130.125\n",
            "Connecting to setup.johnsnowlabs.com (setup.johnsnowlabs.com)|51.158.130.125|:80... connected.\n",
            "HTTP request sent, awaiting response... 302 Moved Temporarily\n",
            "Location: https://raw.githubusercontent.com/JohnSnowLabs/spark-nlp/master/scripts/colab_setup.sh [following]\n",
            "--2023-12-04 01:52:06--  https://raw.githubusercontent.com/JohnSnowLabs/spark-nlp/master/scripts/colab_setup.sh\n",
            "Resolving raw.githubusercontent.com (raw.githubusercontent.com)... 185.199.108.133, 185.199.109.133, 185.199.110.133, ...\n",
            "Connecting to raw.githubusercontent.com (raw.githubusercontent.com)|185.199.108.133|:443... connected.\n",
            "HTTP request sent, awaiting response... 200 OK\n",
            "Length: 1191 (1.2K) [text/plain]\n",
            "Saving to: ‘STDOUT’\n",
            "\n",
            "-                   100%[===================>]   1.16K  --.-KB/s    in 0s      \n",
            "\n",
            "2023-12-04 01:52:06 (76.3 MB/s) - written to stdout [1191/1191]\n",
            "\n",
            "Installing PySpark 3.2.3 and Spark NLP 5.1.4\n",
            "setup Colab for PySpark 3.2.3 and Spark NLP 5.1.4\n",
            "\u001b[2K     \u001b[90m━━━━━━━━━━━━━━━━━━━━━━━━━━━━━━━━━━━━━━━━\u001b[0m \u001b[32m281.5/281.5 MB\u001b[0m \u001b[31m4.7 MB/s\u001b[0m eta \u001b[36m0:00:00\u001b[0m\n",
            "\u001b[?25h  Preparing metadata (setup.py) ... \u001b[?25l\u001b[?25hdone\n",
            "\u001b[2K     \u001b[90m━━━━━━━━━━━━━━━━━━━━━━━━━━━━━━━━━━━━━━━━\u001b[0m \u001b[32m540.7/540.7 kB\u001b[0m \u001b[31m38.8 MB/s\u001b[0m eta \u001b[36m0:00:00\u001b[0m\n",
            "\u001b[2K     \u001b[90m━━━━━━━━━━━━━━━━━━━━━━━━━━━━━━━━━━━━━━━━\u001b[0m \u001b[32m199.7/199.7 kB\u001b[0m \u001b[31m20.3 MB/s\u001b[0m eta \u001b[36m0:00:00\u001b[0m\n",
            "\u001b[?25h  Building wheel for pyspark (setup.py) ... \u001b[?25l\u001b[?25hdone\n"
          ]
        }
      ],
      "source": [
        "!wget http://setup.johnsnowlabs.com/colab.sh -O - | bash"
      ]
    },
    {
      "cell_type": "markdown",
      "metadata": {
        "id": "7kHpwkV-hzra"
      },
      "source": [
        "# Header and Imports"
      ]
    },
    {
      "cell_type": "code",
      "execution_count": null,
      "metadata": {
        "colab": {
          "base_uri": "https://localhost:8080/"
        },
        "id": "KOR-LeOsgYzT",
        "outputId": "0d29b6ab-0e5c-4501-88dc-1de4083be9b6"
      },
      "outputs": [
        {
          "output_type": "stream",
          "name": "stdout",
          "text": [
            "Spark NLP version: 5.1.4\n",
            "Apache Spark version: 3.2.3\n"
          ]
        }
      ],
      "source": [
        "import sparknlp\n",
        "spark = sparknlp.start(gpu=True)\n",
        "\n",
        "print(\"Spark NLP version: {}\".format(sparknlp.version()))\n",
        "print(\"Apache Spark version: {}\".format(spark.version))"
      ]
    },
    {
      "cell_type": "code",
      "execution_count": null,
      "metadata": {
        "id": "4aY2lDvBhals"
      },
      "outputs": [],
      "source": [
        "import sparknlp\n",
        "from sparknlp.base import *\n",
        "from sparknlp.annotator import *\n",
        "from sparknlp.common import *\n",
        "from sparknlp.pretrained import PretrainedPipeline\n",
        "from pyspark.ml import Pipeline\n",
        "from pyspark.sql.functions import col\n",
        "from sklearn.metrics import classification_report, accuracy_score"
      ]
    },
    {
      "cell_type": "markdown",
      "metadata": {
        "id": "dDqGj2n1jppN"
      },
      "source": [
        "# 3 a)No Preprocessing"
      ]
    },
    {
      "cell_type": "code",
      "execution_count": null,
      "metadata": {
        "id": "x4nD46bEjy4y"
      },
      "outputs": [],
      "source": [
        "trainDataset = spark.read \\\n",
        "      .option(\"header\", True) \\\n",
        "      .csv(\"news_category_train.csv\")\n",
        "\n",
        "\n",
        "testDataset = spark.read \\\n",
        "      .option(\"header\", True) \\\n",
        "      .csv(\"news_category_test.csv\")"
      ]
    },
    {
      "cell_type": "code",
      "execution_count": null,
      "metadata": {
        "colab": {
          "base_uri": "https://localhost:8080/"
        },
        "id": "IFX6u315kUl6",
        "outputId": "a23ec8de-e789-4355-c9d3-319803e3b193"
      },
      "outputs": [
        {
          "output_type": "stream",
          "name": "stdout",
          "text": [
            "+--------+--------------------+\n",
            "|category|         description|\n",
            "+--------+--------------------+\n",
            "|Business|Ilford Imaging, t...|\n",
            "|Business|US Treasury Secre...|\n",
            "|Business|Franklin Templeto...|\n",
            "|Business|The number of mor...|\n",
            "|Business|The Red Cross has...|\n",
            "|Business|Based on a CDMA E...|\n",
            "|Business| The U.S. House o...|\n",
            "|Business|The first crimina...|\n",
            "|Business|A day after a pop...|\n",
            "|Business|TORONTO Press bar...|\n",
            "|Business|AFTER months of p...|\n",
            "|Business|The US must cut i...|\n",
            "|Business|Tillie, the clown...|\n",
            "|Business|India News: New D...|\n",
            "|Business|Royal Group Techn...|\n",
            "|Business|As they traded ch...|\n",
            "|Business|Google Inc. is ex...|\n",
            "|Business|Iron Mountain mov...|\n",
            "|Business|Fading hopes for ...|\n",
            "|Business| There's nothing ...|\n",
            "+--------+--------------------+\n",
            "only showing top 20 rows\n",
            "\n",
            "+--------+--------------------+\n",
            "|category|         description|\n",
            "+--------+--------------------+\n",
            "|Business|Unions representi...|\n",
            "|Sci/Tech| TORONTO, Canada ...|\n",
            "|Sci/Tech| A company founde...|\n",
            "|Sci/Tech| It's barely dawn...|\n",
            "|Sci/Tech| Southern Califor...|\n",
            "|Sci/Tech|\"The British Depa...|\n",
            "|Sci/Tech|\"confessed author...|\n",
            "|Sci/Tech|\\\\FOAF/LOAF  and ...|\n",
            "|Sci/Tech|\"Wiltshire Police...|\n",
            "|Sci/Tech|In its first two ...|\n",
            "|Sci/Tech| A group of techn...|\n",
            "|Sci/Tech| Apple Computer I...|\n",
            "|Sci/Tech| Free Record Shop...|\n",
            "|Sci/Tech|A giant 100km col...|\n",
            "|Sci/Tech|\"Dolphin groups, ...|\n",
            "|Sci/Tech|Tyrannosaurus rex...|\n",
            "|Sci/Tech|  Scientists have...|\n",
            "|Sci/Tech|  ESAs Mars Expre...|\n",
            "|Sci/Tech|When did life beg...|\n",
            "|Sci/Tech|update Earnings p...|\n",
            "+--------+--------------------+\n",
            "only showing top 20 rows\n",
            "\n"
          ]
        }
      ],
      "source": [
        "trainDataset.show()\n",
        "testDataset.show()"
      ]
    },
    {
      "cell_type": "code",
      "execution_count": null,
      "metadata": {
        "colab": {
          "base_uri": "https://localhost:8080/"
        },
        "id": "sY2_CZ9tkqmI",
        "outputId": "f57fcd5c-8e9f-4275-9f21-0f970fdc2fd2"
      },
      "outputs": [
        {
          "output_type": "stream",
          "name": "stdout",
          "text": [
            "bert_base_cased download started this may take some time.\n",
            "Approximate size to download 384.9 MB\n",
            "[OK!]\n"
          ]
        }
      ],
      "source": [
        "document_assembler = DocumentAssembler() \\\n",
        "      .setInputCol(\"description\") \\\n",
        "      .setOutputCol(\"document\")\n",
        "\n",
        "tokenizer = Tokenizer() \\\n",
        "      .setInputCols([\"document\"]) \\\n",
        "      .setOutputCol(\"token\")\n",
        "\n",
        "bert_embeddings = BertEmbeddings.pretrained('bert_base_cased', 'en') \\\n",
        "      .setInputCols([\"document\",\"token\"])\\\n",
        "      .setOutputCol(\"bert\")\\\n",
        "      .setCaseSensitive(False)\\\n",
        "\n",
        "embeddingsSentence = SentenceEmbeddings() \\\n",
        "      .setInputCols([\"document\", \"bert\"]) \\\n",
        "      .setOutputCol(\"sentence_embeddings\")\\\n",
        "      .setPoolingStrategy(\"AVERAGE\")\n",
        "\n",
        "classifier = ClassifierDLApproach() \\\n",
        "      .setInputCols([\"sentence_embeddings\"]) \\\n",
        "      .setOutputCol(\"class\") \\\n",
        "      .setLabelColumn(\"category\") \\\n",
        "      .setMaxEpochs(5) \\\n",
        "      .setLr(0.001) \\\n",
        "      .setEnableOutputLogs(True)\n",
        "\n",
        "bert_base_cased= Pipeline(\n",
        "    stages=[document_assembler,\n",
        "            tokenizer,\n",
        "            bert_embeddings,\n",
        "            embeddingsSentence,\n",
        "            classifier])"
      ]
    },
    {
      "cell_type": "code",
      "execution_count": null,
      "metadata": {
        "colab": {
          "base_uri": "https://localhost:8080/"
        },
        "id": "KnGqxbyam1Tq",
        "outputId": "85968b15-20db-456e-a1dc-fdf28d27a734"
      },
      "outputs": [
        {
          "output_type": "stream",
          "name": "stdout",
          "text": [
            "CPU times: user 4.01 s, sys: 500 ms, total: 4.51 s\n",
            "Wall time: 15min 55s\n"
          ]
        },
        {
          "output_type": "execute_result",
          "data": {
            "text/plain": [
              "32000"
            ]
          },
          "metadata": {},
          "execution_count": 7
        }
      ],
      "source": [
        "%%time\n",
        "bert_model = bert_base_cased.fit(trainDataset)\n",
        "bert_processed = bert_model.transform(trainDataset)\n",
        "bert_processed.count()"
      ]
    },
    {
      "cell_type": "code",
      "execution_count": null,
      "metadata": {
        "colab": {
          "base_uri": "https://localhost:8080/"
        },
        "id": "lp6xvkPT4y-f",
        "outputId": "a497c068-755d-4e01-9988-b0d1de0b457c"
      },
      "outputs": [
        {
          "output_type": "stream",
          "name": "stdout",
          "text": [
            "total 4\n",
            "-rw-r--r-- 1 root root 448 Dec  4 02:12 ClassifierDLApproach_e2bbd6c7e247.log\n"
          ]
        }
      ],
      "source": [
        "!cd ~/annotator_logs && ls -l"
      ]
    },
    {
      "cell_type": "code",
      "execution_count": null,
      "metadata": {
        "colab": {
          "base_uri": "https://localhost:8080/"
        },
        "id": "LJSSHsgz8_nI",
        "outputId": "b73c6dcd-ffec-41ef-a0b6-27b69be12f4b"
      },
      "outputs": [
        {
          "output_type": "stream",
          "name": "stdout",
          "text": [
            "cat: /root/annotator_logs/ClassifierDLApproach_d56ebb1bac7a.log: No such file or directory\n"
          ]
        }
      ],
      "source": [
        "!cat ~/annotator_logs/ClassifierDLApproach_e2bbd6c7e247.log"
      ]
    },
    {
      "cell_type": "code",
      "execution_count": null,
      "metadata": {
        "colab": {
          "base_uri": "https://localhost:8080/"
        },
        "id": "mV0PVNxP2L_o",
        "outputId": "ab0b2553-c8bd-4b53-82f2-fec11037296b"
      },
      "outputs": [
        {
          "output_type": "stream",
          "name": "stdout",
          "text": [
            "+--------+--------------------+----------+\n",
            "|category|         description|    result|\n",
            "+--------+--------------------+----------+\n",
            "|Business|Unions representi...|[Business]|\n",
            "|Sci/Tech| TORONTO, Canada ...|[Sci/Tech]|\n",
            "|Sci/Tech| A company founde...|[Sci/Tech]|\n",
            "|Sci/Tech| It's barely dawn...|  [Sports]|\n",
            "|Sci/Tech| Southern Califor...|[Sci/Tech]|\n",
            "|Sci/Tech|\"The British Depa...|   [World]|\n",
            "|Sci/Tech|\"confessed author...|[Sci/Tech]|\n",
            "|Sci/Tech|\\\\FOAF/LOAF  and ...|[Sci/Tech]|\n",
            "|Sci/Tech|\"Wiltshire Police...|   [World]|\n",
            "|Sci/Tech|In its first two ...|[Business]|\n",
            "+--------+--------------------+----------+\n",
            "only showing top 10 rows\n",
            "\n"
          ]
        }
      ],
      "source": [
        "model_df = bert_model.transform(testDataset)\n",
        "model_df.select('category','description',\"class.result\").show(10)"
      ]
    },
    {
      "cell_type": "code",
      "execution_count": null,
      "metadata": {
        "id": "-9-D_yPq9qH5"
      },
      "outputs": [],
      "source": [
        "df=model_df.select('category','description',\"class.result\").toPandas()\n",
        "df[\"result\"]=df[\"result\"].apply(lambda x:x[0])"
      ]
    },
    {
      "cell_type": "code",
      "execution_count": null,
      "metadata": {
        "colab": {
          "base_uri": "https://localhost:8080/"
        },
        "id": "sBX-Pt_Sjh2Q",
        "outputId": "ba790b44-55ff-47b1-8e85-6355cf9f90a1"
      },
      "outputs": [
        {
          "output_type": "stream",
          "name": "stdout",
          "text": [
            "Accuracy: 0.8723684210526316\n",
            "              precision    recall  f1-score   support\n",
            "\n",
            "    Business       0.81      0.84      0.83      1900\n",
            "    Sci/Tech       0.84      0.84      0.84      1900\n",
            "      Sports       0.94      0.95      0.94      1900\n",
            "       World       0.90      0.85      0.88      1900\n",
            "\n",
            "    accuracy                           0.87      7600\n",
            "   macro avg       0.87      0.87      0.87      7600\n",
            "weighted avg       0.87      0.87      0.87      7600\n",
            "\n"
          ]
        }
      ],
      "source": [
        "print(\"Accuracy:\", accuracy_score(df.category,df.result))\n",
        "print(classification_report(df.category,df.result))"
      ]
    },
    {
      "cell_type": "markdown",
      "metadata": {
        "id": "J1N6_U2l9vcI"
      },
      "source": [
        "# 3 b) (i) with preprocessing step -  Lemmatization"
      ]
    },
    {
      "cell_type": "code",
      "execution_count": null,
      "metadata": {
        "colab": {
          "base_uri": "https://localhost:8080/"
        },
        "id": "ZLrycAocul-P",
        "outputId": "8f7071cd-43ea-4037-bd11-d714574332c7"
      },
      "outputs": [
        {
          "name": "stdout",
          "output_type": "stream",
          "text": [
            "lemma_antbnc download started this may take some time.\n",
            "Approximate size to download 907.6 KB\n",
            "[OK!]\n",
            "bert_base_cased download started this may take some time.\n",
            "Approximate size to download 384.9 MB\n",
            "[OK!]\n"
          ]
        }
      ],
      "source": [
        "trainDataset = spark.read \\\n",
        "      .option(\"header\", True) \\\n",
        "      .csv(\"news_category_train.csv\")\n",
        "\n",
        "testDataset = spark.read \\\n",
        "      .option(\"header\", True) \\\n",
        "      .csv(\"news_category_test.csv\")\n",
        "\n",
        "document_assembler = DocumentAssembler() \\\n",
        "      .setInputCol(\"description\") \\\n",
        "      .setOutputCol(\"document\")\n",
        "\n",
        "tokenizer = Tokenizer() \\\n",
        "      .setInputCols([\"document\"]) \\\n",
        "      .setOutputCol(\"token\")\n",
        "\n",
        "normalizer = Normalizer() \\\n",
        "      .setInputCols([\"token\"]) \\\n",
        "      .setOutputCol(\"normalized\")\n",
        "\n",
        "lemmatizer = LemmatizerModel.pretrained('lemma_antbnc', 'en') \\\n",
        "      .setInputCols([\"normalized\"]) \\\n",
        "      .setOutputCol(\"lemma\")\n",
        "\n",
        "bert_embeddings = BertEmbeddings.pretrained('bert_base_cased', 'en') \\\n",
        "      .setInputCols([\"document\",\"lemma\"])\\\n",
        "      .setOutputCol(\"bert\")\\\n",
        "      .setCaseSensitive(False)\\\n",
        "\n",
        "embeddingsSentence = SentenceEmbeddings() \\\n",
        "      .setInputCols([\"document\", \"bert\"]) \\\n",
        "      .setOutputCol(\"sentence_embeddings\") \\\n",
        "      .setPoolingStrategy(\"AVERAGE\")\n",
        "\n",
        "classifier = ClassifierDLApproach() \\\n",
        "      .setInputCols([\"sentence_embeddings\"]) \\\n",
        "      .setOutputCol(\"class\") \\\n",
        "      .setLabelColumn(\"category\") \\\n",
        "      .setMaxEpochs(5) \\\n",
        "      .setLr(0.001) \\\n",
        "      .setEnableOutputLogs(True)\n",
        "\n",
        "bert_cased_lemma = Pipeline(\n",
        "    stages=[document_assembler,\n",
        "            tokenizer,\n",
        "            normalizer,\n",
        "            lemmatizer,\n",
        "            bert_embeddings,\n",
        "            embeddingsSentence,\n",
        "            classifier])"
      ]
    },
    {
      "cell_type": "code",
      "execution_count": null,
      "metadata": {
        "colab": {
          "base_uri": "https://localhost:8080/"
        },
        "id": "PPPHjnZGCVNB",
        "outputId": "3fe24811-f5f4-48c6-f000-0757ed52db1f"
      },
      "outputs": [
        {
          "name": "stdout",
          "output_type": "stream",
          "text": [
            "CPU times: user 4.64 s, sys: 602 ms, total: 5.24 s\n",
            "Wall time: 15min 13s\n"
          ]
        },
        {
          "data": {
            "text/plain": [
              "32000"
            ]
          },
          "execution_count": 18,
          "metadata": {},
          "output_type": "execute_result"
        }
      ],
      "source": [
        "%%time\n",
        "bert_model_lemma = bert_cased_lemma.fit(trainDataset)\n",
        "bert_processed_lemma =bert_model_lemma.transform(trainDataset)\n",
        "bert_processed_lemma.count()"
      ]
    },
    {
      "cell_type": "code",
      "execution_count": null,
      "metadata": {
        "colab": {
          "base_uri": "https://localhost:8080/"
        },
        "id": "9e1QJtTkCk01",
        "outputId": "5f95459f-688f-4bde-ea21-bd02cacf5346"
      },
      "outputs": [
        {
          "name": "stdout",
          "output_type": "stream",
          "text": [
            "total 8\n",
            "-rw-r--r-- 1 root root 443 Dec  3 21:08 ClassifierDLApproach_d56ebb1bac7a.log\n",
            "-rw-r--r-- 1 root root 446 Dec  3 21:48 ClassifierDLApproach_df0aff5db7a7.log\n"
          ]
        }
      ],
      "source": [
        "!cd ~/annotator_logs && ls -l"
      ]
    },
    {
      "cell_type": "code",
      "execution_count": null,
      "metadata": {
        "colab": {
          "background_save": true
        },
        "id": "-BtD4FZXCqEZ",
        "outputId": "1fc2bbdf-ec6a-4277-9b78-fb0039e791ac"
      },
      "outputs": [
        {
          "name": "stdout",
          "output_type": "stream",
          "text": [
            "Training started - epochs: 5 - learning_rate: 0.001 - batch_size: 64 - training_examples: 32000 - classes: 4\n",
            "Epoch 0/5 - 1.82s - loss: 462.1406 - acc: 0.836875 - batches: 500\n",
            "Epoch 1/5 - 1.22s - loss: 445.74304 - acc: 0.865875 - batches: 500\n",
            "Epoch 2/5 - 1.25s - loss: 443.4002 - acc: 0.8709375 - batches: 500\n",
            "Epoch 3/5 - 1.25s - loss: 442.35062 - acc: 0.8733125 - batches: 500\n",
            "Epoch 4/5 - 1.23s - loss: 441.28506 - acc: 0.87453127 - batches: 500\n"
          ]
        }
      ],
      "source": [
        "!cat ~/annotator_logs/ClassifierDLApproach_df0aff5db7a7.log"
      ]
    },
    {
      "cell_type": "code",
      "execution_count": null,
      "metadata": {
        "colab": {
          "base_uri": "https://localhost:8080/"
        },
        "id": "PWhy9dY6Cq3O",
        "outputId": "cae118c2-2de8-402d-a214-18d1f2ed6868"
      },
      "outputs": [
        {
          "name": "stdout",
          "output_type": "stream",
          "text": [
            "+--------+--------------------+----------+\n",
            "|category|         description|    result|\n",
            "+--------+--------------------+----------+\n",
            "|Business|Unions representi...|[Business]|\n",
            "|Sci/Tech| TORONTO, Canada ...|[Sci/Tech]|\n",
            "|Sci/Tech| A company founde...|[Sci/Tech]|\n",
            "|Sci/Tech| It's barely dawn...|[Sci/Tech]|\n",
            "|Sci/Tech| Southern Califor...|[Sci/Tech]|\n",
            "|Sci/Tech|\"The British Depa...|[Sci/Tech]|\n",
            "|Sci/Tech|\"confessed author...|[Sci/Tech]|\n",
            "|Sci/Tech|\\\\FOAF/LOAF  and ...|[Sci/Tech]|\n",
            "|Sci/Tech|\"Wiltshire Police...|   [World]|\n",
            "|Sci/Tech|In its first two ...|[Business]|\n",
            "+--------+--------------------+----------+\n",
            "only showing top 10 rows\n",
            "\n"
          ]
        }
      ],
      "source": [
        "model_df = bert_model_lemma.transform(testDataset)\n",
        "model_df.select('category','description',\"class.result\").show(10)"
      ]
    },
    {
      "cell_type": "code",
      "execution_count": null,
      "metadata": {
        "id": "SL8QujvACuvF"
      },
      "outputs": [],
      "source": [
        "df=model_df.select('category','description',\"class.result\").toPandas()\n",
        "df[\"result\"]=df[\"result\"].apply(lambda x:x[0])"
      ]
    },
    {
      "cell_type": "code",
      "execution_count": null,
      "metadata": {
        "colab": {
          "base_uri": "https://localhost:8080/"
        },
        "id": "5MKFRvXmCzKN",
        "outputId": "fad4207a-3dae-48f6-be96-360a90d74c04"
      },
      "outputs": [
        {
          "name": "stdout",
          "output_type": "stream",
          "text": [
            "Accuracy: 0.8593421052631579\n",
            "              precision    recall  f1-score   support\n",
            "\n",
            "    Business       0.84      0.78      0.81      1900\n",
            "    Sci/Tech       0.80      0.86      0.83      1900\n",
            "      Sports       0.91      0.96      0.93      1900\n",
            "       World       0.89      0.84      0.86      1900\n",
            "\n",
            "    accuracy                           0.86      7600\n",
            "   macro avg       0.86      0.86      0.86      7600\n",
            "weighted avg       0.86      0.86      0.86      7600\n",
            "\n"
          ]
        }
      ],
      "source": [
        "print(\"Accuracy:\", accuracy_score(df.category,df.result))\n",
        "print(classification_report(df.category,df.result))"
      ]
    },
    {
      "cell_type": "markdown",
      "metadata": {
        "id": "QH2wgmRBC93O"
      },
      "source": [
        "# 3 b) (ii) with preprocessing step -  Stop Word Removal"
      ]
    },
    {
      "cell_type": "code",
      "execution_count": null,
      "metadata": {
        "colab": {
          "base_uri": "https://localhost:8080/"
        },
        "id": "5hD3diCJC93O",
        "outputId": "73e199d8-2ec8-4925-87ab-9bfa58bd1367"
      },
      "outputs": [
        {
          "name": "stdout",
          "output_type": "stream",
          "text": [
            "bert_base_cased download started this may take some time.\n",
            "Approximate size to download 384.9 MB\n",
            "[OK!]\n"
          ]
        }
      ],
      "source": [
        "document_assembler = DocumentAssembler() \\\n",
        "      .setInputCol(\"description\") \\\n",
        "      .setOutputCol(\"document\")\n",
        "\n",
        "tokenizer = Tokenizer() \\\n",
        "      .setInputCols([\"document\"]) \\\n",
        "      .setOutputCol(\"token\")\n",
        "\n",
        "normalizer = Normalizer() \\\n",
        "      .setInputCols([\"token\"]) \\\n",
        "      .setOutputCol(\"normalized\")\n",
        "\n",
        "\n",
        "stopwords_cleaner = StopWordsCleaner()\\\n",
        "      .setInputCols(\"normalized\")\\\n",
        "      .setOutputCol(\"stop_cleaner\")\\\n",
        "      .setCaseSensitive(False)\n",
        "\n",
        "bert_embeddings = BertEmbeddings.pretrained(\"bert_base_cased\", \"en\") \\\n",
        "      .setInputCols([\"document\",\"stop_cleaner\"])\\\n",
        "      .setOutputCol(\"bert\")\\\n",
        "      .setCaseSensitive(False)\\\n",
        "\n",
        "\n",
        "embeddingsSentence = SentenceEmbeddings() \\\n",
        "      .setInputCols([\"document\", \"bert\"]) \\\n",
        "      .setOutputCol(\"sentence_embeddings\") \\\n",
        "      .setPoolingStrategy(\"AVERAGE\")\n",
        "\n",
        "classifier = ClassifierDLApproach() \\\n",
        "      .setInputCols([\"sentence_embeddings\"]) \\\n",
        "      .setOutputCol(\"class\") \\\n",
        "      .setLabelColumn(\"category\") \\\n",
        "      .setMaxEpochs(5) \\\n",
        "      .setLr(0.001) \\\n",
        "      .setEnableOutputLogs(True)\n",
        "\n",
        "bert_base_cased_stop = Pipeline(\n",
        "    stages=[document_assembler,\n",
        "            tokenizer,\n",
        "            normalizer,\n",
        "            stopwords_cleaner,\n",
        "            bert_embeddings,\n",
        "            embeddingsSentence,\n",
        "            classifier])"
      ]
    },
    {
      "cell_type": "code",
      "execution_count": null,
      "metadata": {
        "id": "FIVlMIaMB4wF"
      },
      "outputs": [],
      "source": [
        "trainDataset = spark.read \\\n",
        "      .option(\"header\", True) \\\n",
        "      .csv(\"news_category_train.csv\")\n",
        "\n",
        "\n",
        "testDataset = spark.read \\\n",
        "      .option(\"header\", True) \\\n",
        "      .csv(\"news_category_test.csv\")"
      ]
    },
    {
      "cell_type": "code",
      "execution_count": null,
      "metadata": {
        "colab": {
          "base_uri": "https://localhost:8080/"
        },
        "id": "Wk4hi5Z6C93P",
        "outputId": "dfe6e4e4-4b6c-47ba-9238-20e2db6d88c3"
      },
      "outputs": [
        {
          "name": "stdout",
          "output_type": "stream",
          "text": [
            "CPU times: user 3.32 s, sys: 420 ms, total: 3.74 s\n",
            "Wall time: 10min 51s\n"
          ]
        },
        {
          "data": {
            "text/plain": [
              "32000"
            ]
          },
          "execution_count": 26,
          "metadata": {},
          "output_type": "execute_result"
        }
      ],
      "source": [
        "%%time\n",
        "bert_model_stop = bert_base_cased_stop.fit(trainDataset)\n",
        "bert_processed_stop =bert_model_stop.transform(trainDataset)\n",
        "bert_processed_stop.count()"
      ]
    },
    {
      "cell_type": "code",
      "execution_count": null,
      "metadata": {
        "colab": {
          "base_uri": "https://localhost:8080/"
        },
        "id": "k8FwjTybC93P",
        "outputId": "b2f51d29-a76a-4daa-fa06-8be449148923"
      },
      "outputs": [
        {
          "name": "stdout",
          "output_type": "stream",
          "text": [
            "total 12\n",
            "-rw-r--r-- 1 root root 447 Dec  3 22:03 ClassifierDLApproach_c3d05269d63a.log\n",
            "-rw-r--r-- 1 root root 443 Dec  3 21:08 ClassifierDLApproach_d56ebb1bac7a.log\n",
            "-rw-r--r-- 1 root root 446 Dec  3 21:48 ClassifierDLApproach_df0aff5db7a7.log\n"
          ]
        }
      ],
      "source": [
        "!cd ~/annotator_logs && ls -l"
      ]
    },
    {
      "cell_type": "code",
      "execution_count": null,
      "metadata": {
        "colab": {
          "background_save": true
        },
        "id": "vIdMJ51MC93P",
        "outputId": "cf7626f2-def1-4f2d-de17-8ec3a7196723"
      },
      "outputs": [
        {
          "name": "stdout",
          "output_type": "stream",
          "text": [
            "Training started - epochs: 5 - learning_rate: 0.001 - batch_size: 64 - training_examples: 32000 - classes: 4\n",
            "Epoch 0/5 - 1.82s - loss: 462.1406 - acc: 0.836875 - batches: 500\n",
            "Epoch 1/5 - 1.22s - loss: 445.74304 - acc: 0.865875 - batches: 500\n",
            "Epoch 2/5 - 1.25s - loss: 443.4002 - acc: 0.8709375 - batches: 500\n",
            "Epoch 3/5 - 1.25s - loss: 442.35062 - acc: 0.8733125 - batches: 500\n",
            "Epoch 4/5 - 1.23s - loss: 441.28506 - acc: 0.87453127 - batches: 500\n"
          ]
        }
      ],
      "source": [
        "!cat ~/annotator_logs/ClassifierDLApproach_df0aff5db7a7.log"
      ]
    },
    {
      "cell_type": "code",
      "execution_count": null,
      "metadata": {
        "colab": {
          "base_uri": "https://localhost:8080/"
        },
        "id": "rYuEBmUgC93V",
        "outputId": "bac15e06-36b3-455c-fbb4-c9e24f25053c"
      },
      "outputs": [
        {
          "name": "stdout",
          "output_type": "stream",
          "text": [
            "+--------+--------------------+----------+\n",
            "|category|         description|    result|\n",
            "+--------+--------------------+----------+\n",
            "|Business|Unions representi...|[Business]|\n",
            "|Sci/Tech| TORONTO, Canada ...|[Sci/Tech]|\n",
            "|Sci/Tech| A company founde...|[Sci/Tech]|\n",
            "|Sci/Tech| It's barely dawn...|[Sci/Tech]|\n",
            "|Sci/Tech| Southern Califor...|[Sci/Tech]|\n",
            "|Sci/Tech|\"The British Depa...|[Sci/Tech]|\n",
            "|Sci/Tech|\"confessed author...|[Sci/Tech]|\n",
            "|Sci/Tech|\\\\FOAF/LOAF  and ...|[Sci/Tech]|\n",
            "|Sci/Tech|\"Wiltshire Police...|[Business]|\n",
            "|Sci/Tech|In its first two ...|[Sci/Tech]|\n",
            "+--------+--------------------+----------+\n",
            "only showing top 10 rows\n",
            "\n"
          ]
        }
      ],
      "source": [
        "model_df = bert_model_stop.transform(testDataset)\n",
        "model_df.select('category','description',\"class.result\").show(10)"
      ]
    },
    {
      "cell_type": "code",
      "execution_count": null,
      "metadata": {
        "id": "aURSbQgfC93W"
      },
      "outputs": [],
      "source": [
        "df=model_df.select('category','description',\"class.result\").toPandas()\n",
        "df[\"result\"]=df[\"result\"].apply(lambda x:x[0])"
      ]
    },
    {
      "cell_type": "code",
      "execution_count": null,
      "metadata": {
        "colab": {
          "base_uri": "https://localhost:8080/"
        },
        "id": "99Qe_ceoC93W",
        "outputId": "d88f29cd-dd88-4f2c-be04-1868cd3e49a0"
      },
      "outputs": [
        {
          "name": "stdout",
          "output_type": "stream",
          "text": [
            "Accuracy: 0.8621052631578947\n",
            "              precision    recall  f1-score   support\n",
            "\n",
            "    Business       0.81      0.81      0.81      1900\n",
            "    Sci/Tech       0.83      0.84      0.83      1900\n",
            "      Sports       0.90      0.96      0.93      1900\n",
            "       World       0.90      0.83      0.87      1900\n",
            "\n",
            "    accuracy                           0.86      7600\n",
            "   macro avg       0.86      0.86      0.86      7600\n",
            "weighted avg       0.86      0.86      0.86      7600\n",
            "\n"
          ]
        }
      ],
      "source": [
        "print(\"Accuracy:\", accuracy_score(df.category,df.result))\n",
        "print(classification_report(df.category,df.result))"
      ]
    },
    {
      "cell_type": "markdown",
      "metadata": {
        "id": "qENv9cVQDfrc"
      },
      "source": [
        "# 3 b) (iii) with preprocessing step -  Lemmatization and Stop Word Removal"
      ]
    },
    {
      "cell_type": "code",
      "execution_count": null,
      "metadata": {
        "id": "qU0Uy0rqB1Ik"
      },
      "outputs": [],
      "source": [
        "trainDataset = spark.read \\\n",
        "      .option(\"header\", True) \\\n",
        "      .csv(\"news_category_train.csv\")\n",
        "\n",
        "\n",
        "testDataset = spark.read \\\n",
        "      .option(\"header\", True) \\\n",
        "      .csv(\"news_category_test.csv\")"
      ]
    },
    {
      "cell_type": "code",
      "execution_count": null,
      "metadata": {
        "colab": {
          "base_uri": "https://localhost:8080/"
        },
        "id": "6hWsQhSMDfrc",
        "outputId": "871f9a8c-6b78-4828-e201-7f0f4ad718e2"
      },
      "outputs": [
        {
          "output_type": "stream",
          "name": "stdout",
          "text": [
            "lemma_antbnc download started this may take some time.\n",
            "Approximate size to download 907.6 KB\n",
            "[OK!]\n",
            "bert_base_cased download started this may take some time.\n",
            "Approximate size to download 384.9 MB\n",
            "[OK!]\n"
          ]
        }
      ],
      "source": [
        "document_assembler = DocumentAssembler() \\\n",
        "      .setInputCol(\"description\") \\\n",
        "      .setOutputCol(\"document\")\n",
        "\n",
        "tokenizer = Tokenizer() \\\n",
        "      .setInputCols([\"document\"]) \\\n",
        "      .setOutputCol(\"token\")\n",
        "\n",
        "normalizer = Normalizer() \\\n",
        "      .setInputCols([\"token\"]) \\\n",
        "      .setOutputCol(\"normalized\")\n",
        "\n",
        "stopwords_cleaner = StopWordsCleaner()\\\n",
        "      .setInputCols([\"normalized\"])\\\n",
        "      .setOutputCol(\"stop\")\\\n",
        "      .setCaseSensitive(False)\n",
        "\n",
        "lemmatizer = LemmatizerModel.pretrained('lemma_antbnc', 'en') \\\n",
        "      .setInputCols([\"stop\"]) \\\n",
        "      .setOutputCol(\"lemma\")\n",
        "\n",
        "bert_embeddings = BertEmbeddings.pretrained('bert_base_cased', 'en') \\\n",
        "      .setInputCols([\"document\",\"lemma\"])\\\n",
        "      .setOutputCol(\"bert\")\\\n",
        "      .setCaseSensitive(False)\\\n",
        "\n",
        "\n",
        "embeddingsSentence = SentenceEmbeddings() \\\n",
        "      .setInputCols([\"document\", \"bert\"]) \\\n",
        "      .setOutputCol(\"sentence_embeddings\") \\\n",
        "      .setPoolingStrategy(\"AVERAGE\")\n",
        "\n",
        "classifier = ClassifierDLApproach() \\\n",
        "      .setInputCols([\"sentence_embeddings\"]) \\\n",
        "      .setOutputCol(\"class\") \\\n",
        "      .setLabelColumn(\"category\") \\\n",
        "      .setMaxEpochs(5) \\\n",
        "      .setLr(0.001) \\\n",
        "      .setEnableOutputLogs(True)\n",
        "\n",
        "bert_base_cased_lemma_stop = Pipeline(\n",
        "    stages=[document_assembler,\n",
        "            tokenizer,\n",
        "            normalizer,\n",
        "            stopwords_cleaner,\n",
        "            lemmatizer,\n",
        "            bert_embeddings,\n",
        "            embeddingsSentence,\n",
        "            classifier])"
      ]
    },
    {
      "cell_type": "code",
      "execution_count": null,
      "metadata": {
        "colab": {
          "base_uri": "https://localhost:8080/"
        },
        "id": "lmQkuacADfrc",
        "outputId": "dbb35afb-c5bf-43fb-b04c-9ac63d1eb2bb"
      },
      "outputs": [
        {
          "output_type": "stream",
          "name": "stdout",
          "text": [
            "CPU times: user 4.07 s, sys: 481 ms, total: 4.55 s\n",
            "Wall time: 14min 29s\n"
          ]
        },
        {
          "output_type": "execute_result",
          "data": {
            "text/plain": [
              "32000"
            ]
          },
          "metadata": {},
          "execution_count": 6
        }
      ],
      "source": [
        "%%time\n",
        "bert_model_lemma_stop = bert_base_cased_lemma_stop.fit(trainDataset)\n",
        "bert_processed_lemma_stop =bert_model_lemma_stop.transform(trainDataset)\n",
        "bert_processed_lemma_stop.count()"
      ]
    },
    {
      "cell_type": "code",
      "execution_count": null,
      "metadata": {
        "colab": {
          "base_uri": "https://localhost:8080/"
        },
        "id": "tziofFmSDfrc",
        "outputId": "2f1aae95-cced-40b8-da14-a9a49e52a988"
      },
      "outputs": [
        {
          "output_type": "stream",
          "name": "stdout",
          "text": [
            "total 4\n",
            "-rw-r--r-- 1 root root 447 Dec  3 22:49 ClassifierDLApproach_50cb5405584f.log\n"
          ]
        }
      ],
      "source": [
        "!cd ~/annotator_logs && ls -l"
      ]
    },
    {
      "cell_type": "code",
      "execution_count": null,
      "metadata": {
        "colab": {
          "base_uri": "https://localhost:8080/"
        },
        "id": "eVu53Vh_Dfrc",
        "outputId": "ca9232d9-0119-4c3c-9cec-e53da59aa851"
      },
      "outputs": [
        {
          "output_type": "stream",
          "name": "stdout",
          "text": [
            "Training started - epochs: 5 - learning_rate: 0.001 - batch_size: 64 - training_examples: 32000 - classes: 4\n",
            "Epoch 0/5 - 1.95s - loss: 448.73026 - acc: 0.83053124 - batches: 500\n",
            "Epoch 1/5 - 1.24s - loss: 434.63428 - acc: 0.85753125 - batches: 500\n",
            "Epoch 2/5 - 1.36s - loss: 431.3939 - acc: 0.8629375 - batches: 500\n",
            "Epoch 3/5 - 1.74s - loss: 429.86963 - acc: 0.86625 - batches: 500\n",
            "Epoch 4/5 - 1.54s - loss: 429.20758 - acc: 0.868625 - batches: 500\n"
          ]
        }
      ],
      "source": [
        "!cat ~/annotator_logs/ClassifierDLApproach_50cb5405584f.log"
      ]
    },
    {
      "cell_type": "code",
      "execution_count": null,
      "metadata": {
        "colab": {
          "base_uri": "https://localhost:8080/"
        },
        "id": "YkD7tWCrDfrc",
        "outputId": "eea801ec-4caa-4605-dbc1-001c08db683e"
      },
      "outputs": [
        {
          "output_type": "stream",
          "name": "stdout",
          "text": [
            "+--------+--------------------+----------+\n",
            "|category|         description|    result|\n",
            "+--------+--------------------+----------+\n",
            "|Business|Unions representi...|[Business]|\n",
            "|Sci/Tech| TORONTO, Canada ...|[Sci/Tech]|\n",
            "|Sci/Tech| A company founde...|[Sci/Tech]|\n",
            "|Sci/Tech| It's barely dawn...|[Sci/Tech]|\n",
            "|Sci/Tech| Southern Califor...|[Sci/Tech]|\n",
            "|Sci/Tech|\"The British Depa...|[Sci/Tech]|\n",
            "|Sci/Tech|\"confessed author...|[Sci/Tech]|\n",
            "|Sci/Tech|\\\\FOAF/LOAF  and ...|[Sci/Tech]|\n",
            "|Sci/Tech|\"Wiltshire Police...|[Business]|\n",
            "|Sci/Tech|In its first two ...|[Business]|\n",
            "+--------+--------------------+----------+\n",
            "only showing top 10 rows\n",
            "\n"
          ]
        }
      ],
      "source": [
        "model_df = bert_model_lemma_stop.transform(testDataset)\n",
        "model_df.select('category','description',\"class.result\").show(10)"
      ]
    },
    {
      "cell_type": "code",
      "execution_count": null,
      "metadata": {
        "id": "i5UrDm0VDfrc"
      },
      "outputs": [],
      "source": [
        "df=model_df.select('category','description',\"class.result\").toPandas()\n",
        "df[\"result\"]=df[\"result\"].apply(lambda x:x[0])"
      ]
    },
    {
      "cell_type": "code",
      "execution_count": null,
      "metadata": {
        "colab": {
          "base_uri": "https://localhost:8080/"
        },
        "id": "xlQ1DeoZDfrc",
        "outputId": "6693098e-a0ae-4d1e-ebfc-48369d8677a9"
      },
      "outputs": [
        {
          "output_type": "stream",
          "name": "stdout",
          "text": [
            "Accuracy: 0.8581578947368421\n",
            "              precision    recall  f1-score   support\n",
            "\n",
            "    Business       0.81      0.81      0.81      1900\n",
            "    Sci/Tech       0.84      0.81      0.82      1900\n",
            "      Sports       0.91      0.95      0.93      1900\n",
            "       World       0.87      0.86      0.87      1900\n",
            "\n",
            "    accuracy                           0.86      7600\n",
            "   macro avg       0.86      0.86      0.86      7600\n",
            "weighted avg       0.86      0.86      0.86      7600\n",
            "\n"
          ]
        }
      ],
      "source": [
        "print(\"Accuracy:\", accuracy_score(df.category,df.result))\n",
        "print(classification_report(df.category,df.result))"
      ]
    },
    {
      "cell_type": "markdown",
      "metadata": {
        "id": "jeZ7TDfkUZSZ"
      },
      "source": [
        "# 3 c) RoBerta embeddings with no preprocessing as it gave highest accuracy"
      ]
    },
    {
      "cell_type": "code",
      "execution_count": null,
      "metadata": {
        "id": "d8SjTUXvUZSm"
      },
      "outputs": [],
      "source": [
        "trainDataset = spark.read \\\n",
        "      .option(\"header\", True) \\\n",
        "      .csv(\"news_category_train.csv\")\n",
        "\n",
        "\n",
        "testDataset = spark.read \\\n",
        "      .option(\"header\", True) \\\n",
        "      .csv(\"news_category_test.csv\")"
      ]
    },
    {
      "cell_type": "code",
      "execution_count": null,
      "metadata": {
        "colab": {
          "base_uri": "https://localhost:8080/"
        },
        "id": "6MLLZ-diUZSm",
        "outputId": "c80ec9b1-bc41-4022-b5ad-ed216b2baee8"
      },
      "outputs": [
        {
          "output_type": "stream",
          "name": "stdout",
          "text": [
            "+--------+--------------------+\n",
            "|category|         description|\n",
            "+--------+--------------------+\n",
            "|Business|Ilford Imaging, t...|\n",
            "|Business|US Treasury Secre...|\n",
            "|Business|Franklin Templeto...|\n",
            "|Business|The number of mor...|\n",
            "|Business|The Red Cross has...|\n",
            "|Business|Based on a CDMA E...|\n",
            "|Business| The U.S. House o...|\n",
            "|Business|The first crimina...|\n",
            "|Business|A day after a pop...|\n",
            "|Business|TORONTO Press bar...|\n",
            "|Business|AFTER months of p...|\n",
            "|Business|The US must cut i...|\n",
            "|Business|Tillie, the clown...|\n",
            "|Business|India News: New D...|\n",
            "|Business|Royal Group Techn...|\n",
            "|Business|As they traded ch...|\n",
            "|Business|Google Inc. is ex...|\n",
            "|Business|Iron Mountain mov...|\n",
            "|Business|Fading hopes for ...|\n",
            "|Business| There's nothing ...|\n",
            "+--------+--------------------+\n",
            "only showing top 20 rows\n",
            "\n",
            "+--------+--------------------+\n",
            "|category|         description|\n",
            "+--------+--------------------+\n",
            "|Business|Unions representi...|\n",
            "|Sci/Tech| TORONTO, Canada ...|\n",
            "|Sci/Tech| A company founde...|\n",
            "|Sci/Tech| It's barely dawn...|\n",
            "|Sci/Tech| Southern Califor...|\n",
            "|Sci/Tech|\"The British Depa...|\n",
            "|Sci/Tech|\"confessed author...|\n",
            "|Sci/Tech|\\\\FOAF/LOAF  and ...|\n",
            "|Sci/Tech|\"Wiltshire Police...|\n",
            "|Sci/Tech|In its first two ...|\n",
            "|Sci/Tech| A group of techn...|\n",
            "|Sci/Tech| Apple Computer I...|\n",
            "|Sci/Tech| Free Record Shop...|\n",
            "|Sci/Tech|A giant 100km col...|\n",
            "|Sci/Tech|\"Dolphin groups, ...|\n",
            "|Sci/Tech|Tyrannosaurus rex...|\n",
            "|Sci/Tech|  Scientists have...|\n",
            "|Sci/Tech|  ESAs Mars Expre...|\n",
            "|Sci/Tech|When did life beg...|\n",
            "|Sci/Tech|update Earnings p...|\n",
            "+--------+--------------------+\n",
            "only showing top 20 rows\n",
            "\n"
          ]
        }
      ],
      "source": [
        "trainDataset.show()\n",
        "testDataset.show()"
      ]
    },
    {
      "cell_type": "code",
      "execution_count": null,
      "metadata": {
        "colab": {
          "base_uri": "https://localhost:8080/"
        },
        "id": "y3A4afAjfsPn",
        "outputId": "3cd33c07-9868-4589-ce5f-b33533207a40"
      },
      "outputs": [
        {
          "output_type": "stream",
          "name": "stdout",
          "text": [
            "Collecting onnxruntime\n",
            "  Downloading onnxruntime-1.16.3-cp310-cp310-manylinux_2_17_x86_64.manylinux2014_x86_64.whl (6.4 MB)\n",
            "\u001b[2K     \u001b[90m━━━━━━━━━━━━━━━━━━━━━━━━━━━━━━━━━━━━━━━━\u001b[0m \u001b[32m6.4/6.4 MB\u001b[0m \u001b[31m24.7 MB/s\u001b[0m eta \u001b[36m0:00:00\u001b[0m\n",
            "\u001b[?25hCollecting coloredlogs (from onnxruntime)\n",
            "  Downloading coloredlogs-15.0.1-py2.py3-none-any.whl (46 kB)\n",
            "\u001b[2K     \u001b[90m━━━━━━━━━━━━━━━━━━━━━━━━━━━━━━━━━━━━━━━━\u001b[0m \u001b[32m46.0/46.0 kB\u001b[0m \u001b[31m5.1 MB/s\u001b[0m eta \u001b[36m0:00:00\u001b[0m\n",
            "\u001b[?25hRequirement already satisfied: flatbuffers in /usr/local/lib/python3.10/dist-packages (from onnxruntime) (23.5.26)\n",
            "Requirement already satisfied: numpy>=1.21.6 in /usr/local/lib/python3.10/dist-packages (from onnxruntime) (1.23.5)\n",
            "Requirement already satisfied: packaging in /usr/local/lib/python3.10/dist-packages (from onnxruntime) (23.2)\n",
            "Requirement already satisfied: protobuf in /usr/local/lib/python3.10/dist-packages (from onnxruntime) (3.20.3)\n",
            "Requirement already satisfied: sympy in /usr/local/lib/python3.10/dist-packages (from onnxruntime) (1.12)\n",
            "Collecting humanfriendly>=9.1 (from coloredlogs->onnxruntime)\n",
            "  Downloading humanfriendly-10.0-py2.py3-none-any.whl (86 kB)\n",
            "\u001b[2K     \u001b[90m━━━━━━━━━━━━━━━━━━━━━━━━━━━━━━━━━━━━━━━━\u001b[0m \u001b[32m86.8/86.8 kB\u001b[0m \u001b[31m11.3 MB/s\u001b[0m eta \u001b[36m0:00:00\u001b[0m\n",
            "\u001b[?25hRequirement already satisfied: mpmath>=0.19 in /usr/local/lib/python3.10/dist-packages (from sympy->onnxruntime) (1.3.0)\n",
            "Installing collected packages: humanfriendly, coloredlogs, onnxruntime\n",
            "Successfully installed coloredlogs-15.0.1 humanfriendly-10.0 onnxruntime-1.16.3\n"
          ]
        }
      ],
      "source": [
        "!pip install onnxruntime"
      ]
    },
    {
      "cell_type": "code",
      "execution_count": null,
      "metadata": {
        "colab": {
          "base_uri": "https://localhost:8080/"
        },
        "id": "gi9VXislfyD4",
        "outputId": "169877e8-06b9-4c29-f545-64c934079ba7"
      },
      "outputs": [
        {
          "output_type": "stream",
          "name": "stdout",
          "text": [
            "Collecting onnxruntime-gpu\n",
            "  Downloading onnxruntime_gpu-1.16.3-cp310-cp310-manylinux_2_17_x86_64.manylinux2014_x86_64.whl (157.1 MB)\n",
            "\u001b[2K     \u001b[90m━━━━━━━━━━━━━━━━━━━━━━━━━━━━━━━━━━━━━━━━\u001b[0m \u001b[32m157.1/157.1 MB\u001b[0m \u001b[31m7.6 MB/s\u001b[0m eta \u001b[36m0:00:00\u001b[0m\n",
            "\u001b[?25hRequirement already satisfied: coloredlogs in /usr/local/lib/python3.10/dist-packages (from onnxruntime-gpu) (15.0.1)\n",
            "Requirement already satisfied: flatbuffers in /usr/local/lib/python3.10/dist-packages (from onnxruntime-gpu) (23.5.26)\n",
            "Requirement already satisfied: numpy>=1.21.6 in /usr/local/lib/python3.10/dist-packages (from onnxruntime-gpu) (1.23.5)\n",
            "Requirement already satisfied: packaging in /usr/local/lib/python3.10/dist-packages (from onnxruntime-gpu) (23.2)\n",
            "Requirement already satisfied: protobuf in /usr/local/lib/python3.10/dist-packages (from onnxruntime-gpu) (3.20.3)\n",
            "Requirement already satisfied: sympy in /usr/local/lib/python3.10/dist-packages (from onnxruntime-gpu) (1.12)\n",
            "Requirement already satisfied: humanfriendly>=9.1 in /usr/local/lib/python3.10/dist-packages (from coloredlogs->onnxruntime-gpu) (10.0)\n",
            "Requirement already satisfied: mpmath>=0.19 in /usr/local/lib/python3.10/dist-packages (from sympy->onnxruntime-gpu) (1.3.0)\n",
            "Installing collected packages: onnxruntime-gpu\n",
            "Successfully installed onnxruntime-gpu-1.16.3\n"
          ]
        }
      ],
      "source": [
        "!pip install onnxruntime-gpu"
      ]
    },
    {
      "cell_type": "code",
      "execution_count": null,
      "metadata": {
        "colab": {
          "base_uri": "https://localhost:8080/"
        },
        "id": "_bEnOeo5UZSn",
        "outputId": "35a8fe0a-6dd5-4db1-b29f-d326422facdc"
      },
      "outputs": [
        {
          "output_type": "stream",
          "name": "stdout",
          "text": [
            "roberta_base download started this may take some time.\n",
            "Approximate size to download 284.3 MB\n",
            "[OK!]\n"
          ]
        }
      ],
      "source": [
        "document_assembler = DocumentAssembler() \\\n",
        "      .setInputCol(\"description\") \\\n",
        "      .setOutputCol(\"document\")\n",
        "\n",
        "tokenizer = Tokenizer() \\\n",
        "      .setInputCols([\"document\"]) \\\n",
        "      .setOutputCol(\"token\")\n",
        "\n",
        "roberta_embeddings = RoBertaEmbeddings.pretrained('roberta_base', 'en') \\\n",
        "      .setInputCols([\"document\",'token'])\\\n",
        "      .setOutputCol(\"roberta\")\\\n",
        "      .setCaseSensitive(False)\\\n",
        "\n",
        "embeddingsSentence = SentenceEmbeddings() \\\n",
        "      .setInputCols([\"document\", \"roberta\"]) \\\n",
        "      .setOutputCol(\"sentence_embeddings\") \\\n",
        "      .setPoolingStrategy(\"AVERAGE\")\n",
        "\n",
        "classifier = ClassifierDLApproach() \\\n",
        "      .setInputCols([\"sentence_embeddings\"]) \\\n",
        "      .setOutputCol(\"class\") \\\n",
        "      .setLabelColumn(\"category\") \\\n",
        "      .setMaxEpochs(5) \\\n",
        "      .setLr(0.001) \\\n",
        "      .setEnableOutputLogs(True)\n",
        "\n",
        "roberta_base_cased = Pipeline(\n",
        "    stages=[document_assembler,\n",
        "            tokenizer,\n",
        "            roberta_embeddings,\n",
        "            embeddingsSentence,\n",
        "            classifier])"
      ]
    },
    {
      "cell_type": "code",
      "execution_count": null,
      "metadata": {
        "id": "37E0drS4UZSn",
        "colab": {
          "base_uri": "https://localhost:8080/"
        },
        "outputId": "13e7b01a-e4d8-4cca-a983-217a3a466fe3"
      },
      "outputs": [
        {
          "output_type": "stream",
          "name": "stdout",
          "text": [
            "CPU times: user 6.13 s, sys: 733 ms, total: 6.87 s\n",
            "Wall time: 24min 19s\n"
          ]
        },
        {
          "output_type": "execute_result",
          "data": {
            "text/plain": [
              "32000"
            ]
          },
          "metadata": {},
          "execution_count": 9
        }
      ],
      "source": [
        "%%time\n",
        "roberta_model = roberta_base_cased.fit(trainDataset)\n",
        "roberta_processed = roberta_model.transform(trainDataset)\n",
        "roberta_processed.count()"
      ]
    },
    {
      "cell_type": "code",
      "execution_count": null,
      "metadata": {
        "id": "tS4Wff54UZSn",
        "colab": {
          "base_uri": "https://localhost:8080/"
        },
        "outputId": "89b313e1-ec96-4961-e61b-eee0f5a668b3"
      },
      "outputs": [
        {
          "output_type": "stream",
          "name": "stdout",
          "text": [
            "total 4\n",
            "-rw-r--r-- 1 root root 446 Dec  4 00:03 ClassifierDLApproach_e48cd66589ae.log\n"
          ]
        }
      ],
      "source": [
        "!cd ~/annotator_logs && ls -l"
      ]
    },
    {
      "cell_type": "code",
      "execution_count": null,
      "metadata": {
        "id": "W286N5_YUZSn",
        "colab": {
          "base_uri": "https://localhost:8080/"
        },
        "outputId": "f550ce2c-22a4-4ac4-cca2-8b71db70a2c4"
      },
      "outputs": [
        {
          "output_type": "stream",
          "name": "stdout",
          "text": [
            "cat: /root/annotator_logs/ClassifierDLApproach_e48cd66589ae.log: No such file or directory\n"
          ]
        }
      ],
      "source": [
        "!cat ~/annotator_logs/ClassifierDLApproach_e48cd66589ae.log"
      ]
    },
    {
      "cell_type": "code",
      "execution_count": null,
      "metadata": {
        "id": "hjPAix4FUZSn",
        "colab": {
          "base_uri": "https://localhost:8080/"
        },
        "outputId": "ca37da32-ceef-44e9-a773-639dbf830428"
      },
      "outputs": [
        {
          "output_type": "stream",
          "name": "stdout",
          "text": [
            "+--------+--------------------+----------+\n",
            "|category|         description|    result|\n",
            "+--------+--------------------+----------+\n",
            "|Business|Unions representi...|[Sci/Tech]|\n",
            "|Sci/Tech| TORONTO, Canada ...|[Sci/Tech]|\n",
            "|Sci/Tech| A company founde...|[Sci/Tech]|\n",
            "|Sci/Tech| It's barely dawn...|  [Sports]|\n",
            "|Sci/Tech| Southern Califor...|   [World]|\n",
            "|Sci/Tech|\"The British Depa...|[Sci/Tech]|\n",
            "|Sci/Tech|\"confessed author...|[Sci/Tech]|\n",
            "|Sci/Tech|\\\\FOAF/LOAF  and ...|[Sci/Tech]|\n",
            "|Sci/Tech|\"Wiltshire Police...|   [World]|\n",
            "|Sci/Tech|In its first two ...|[Business]|\n",
            "+--------+--------------------+----------+\n",
            "only showing top 10 rows\n",
            "\n"
          ]
        }
      ],
      "source": [
        "model_df = roberta_model.transform(testDataset)\n",
        "model_df.select('category','description',\"class.result\").show(10)"
      ]
    },
    {
      "cell_type": "code",
      "execution_count": null,
      "metadata": {
        "id": "oKSMBKnkUZSn"
      },
      "outputs": [],
      "source": [
        "df=model_df.select('category','description',\"class.result\").toPandas()\n",
        "df[\"result\"]=df[\"result\"].apply(lambda x:x[0])"
      ]
    },
    {
      "cell_type": "code",
      "execution_count": null,
      "metadata": {
        "id": "xfju7jZsUZSn",
        "colab": {
          "base_uri": "https://localhost:8080/"
        },
        "outputId": "fbf86d7a-494a-4cd3-e87e-42c17e7d1d16"
      },
      "outputs": [
        {
          "output_type": "stream",
          "name": "stdout",
          "text": [
            "Accuracy: 0.7985526315789474\n",
            "              precision    recall  f1-score   support\n",
            "\n",
            "    Business       0.76      0.77      0.76      1900\n",
            "    Sci/Tech       0.76      0.75      0.75      1900\n",
            "      Sports       0.88      0.89      0.88      1900\n",
            "       World       0.79      0.79      0.79      1900\n",
            "\n",
            "    accuracy                           0.80      7600\n",
            "   macro avg       0.80      0.80      0.80      7600\n",
            "weighted avg       0.80      0.80      0.80      7600\n",
            "\n"
          ]
        }
      ],
      "source": [
        "print(\"Accuracy:\", accuracy_score(df.category,df.result))\n",
        "print(classification_report(df.category,df.result))"
      ]
    }
  ],
  "metadata": {
    "accelerator": "GPU",
    "colab": {
      "collapsed_sections": [
        "J1N6_U2l9vcI",
        "QH2wgmRBC93O",
        "qENv9cVQDfrc"
      ],
      "provenance": [],
      "gpuType": "T4"
    },
    "kernelspec": {
      "display_name": "Python 3",
      "name": "python3"
    },
    "language_info": {
      "name": "python"
    }
  },
  "nbformat": 4,
  "nbformat_minor": 0
}